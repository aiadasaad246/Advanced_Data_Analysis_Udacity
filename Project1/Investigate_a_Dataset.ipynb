{
 "cells": [
  {
   "cell_type": "markdown",
   "metadata": {},
   "source": [
    "\n",
    "# Project: Medical Appointment No Shows Data Analysis\n",
    "\n",
    "## Table of Contents\n",
    "<ul>\n",
    "<li><a href=\"#intro\">Introduction</a></li>\n",
    "<li><a href=\"#wrangling\">Data Wrangling</a></li>\n",
    "<li><a href=\"#eda\">Exploratory Data Analysis</a></li>\n",
    "<li><a href=\"#conclusions\">Conclusions</a></li>\n",
    "</ul>"
   ]
  },
  {
   "cell_type": "markdown",
   "metadata": {},
   "source": [
    "###  - Bonus [3 Points] : Work with another regression dataset on Kaggle that you find interesting and repeat all the steps in Task 2."
   ]
  },
  {
   "cell_type": "markdown",
   "metadata": {},
   "source": [
    "<a id='intro'></a>\n",
    "## Introduction\n",
    "\n",
    ">  In Brazil, patients make a doctor appointment before going to the clinic. However, the clinics have complained that about 30% of the patients miss their scheduled medical appointment. Therefore, they have collected a dataset containing information about all patients. They just want to know what are the factors that affect whether the patient will show on his/her medical appointment or not.\n"
   ]
  },
  {
   "cell_type": "code",
   "execution_count": 16,
   "metadata": {},
   "outputs": [],
   "source": [
    " # First I import the packages that I will  use to facilitate the process of analysis the dataset\n",
    "import pandas as pd\n",
    "import numpy as np\n",
    "import matplotlib.pyplot as plt\n",
    "import seaborn as sns\n",
    "%matplotlib inline\n",
    "\n",
    "import matplotlib.pyplot as plt\n",
    "import numpy as np\n",
    "import pandas as pd\n",
    "import seaborn as sns\n",
    "\n",
    "from sklearn import datasets\n",
    "from sklearn.model_selection import train_test_split\n",
    "from sklearn.preprocessing import Normalizer\n",
    "from sklearn.metrics import accuracy_score\n",
    "from sklearn.neighbors import KNeighborsClassifier\n",
    "from sklearn.model_selection import KFold\n",
    "from sklearn import preprocessing\n",
    "\n",
    "from collections import Counter\n",
    "from sklearn.metrics import mean_squared_error"
   ]
  },
  {
   "cell_type": "markdown",
   "metadata": {},
   "source": [
    "<a id='wrangling'></a>\n",
    "## Data Wrangling\n",
    "\n",
    "### General Properties"
   ]
  },
  {
   "cell_type": "code",
   "execution_count": 2,
   "metadata": {},
   "outputs": [
    {
     "data": {
      "text/html": [
       "<div>\n",
       "<style scoped>\n",
       "    .dataframe tbody tr th:only-of-type {\n",
       "        vertical-align: middle;\n",
       "    }\n",
       "\n",
       "    .dataframe tbody tr th {\n",
       "        vertical-align: top;\n",
       "    }\n",
       "\n",
       "    .dataframe thead th {\n",
       "        text-align: right;\n",
       "    }\n",
       "</style>\n",
       "<table border=\"1\" class=\"dataframe\">\n",
       "  <thead>\n",
       "    <tr style=\"text-align: right;\">\n",
       "      <th></th>\n",
       "      <th>PatientId</th>\n",
       "      <th>AppointmentID</th>\n",
       "      <th>Gender</th>\n",
       "      <th>ScheduledDay</th>\n",
       "      <th>AppointmentDay</th>\n",
       "      <th>Age</th>\n",
       "      <th>Neighbourhood</th>\n",
       "      <th>Scholarship</th>\n",
       "      <th>Hipertension</th>\n",
       "      <th>Diabetes</th>\n",
       "      <th>Alcoholism</th>\n",
       "      <th>Handcap</th>\n",
       "      <th>SMS_received</th>\n",
       "      <th>No-show</th>\n",
       "    </tr>\n",
       "  </thead>\n",
       "  <tbody>\n",
       "    <tr>\n",
       "      <th>0</th>\n",
       "      <td>2.987250e+13</td>\n",
       "      <td>5642903</td>\n",
       "      <td>F</td>\n",
       "      <td>2016-04-29T18:38:08Z</td>\n",
       "      <td>2016-04-29T00:00:00Z</td>\n",
       "      <td>62</td>\n",
       "      <td>JARDIM DA PENHA</td>\n",
       "      <td>0</td>\n",
       "      <td>1</td>\n",
       "      <td>0</td>\n",
       "      <td>0</td>\n",
       "      <td>0</td>\n",
       "      <td>0</td>\n",
       "      <td>No</td>\n",
       "    </tr>\n",
       "    <tr>\n",
       "      <th>1</th>\n",
       "      <td>5.589978e+14</td>\n",
       "      <td>5642503</td>\n",
       "      <td>M</td>\n",
       "      <td>2016-04-29T16:08:27Z</td>\n",
       "      <td>2016-04-29T00:00:00Z</td>\n",
       "      <td>56</td>\n",
       "      <td>JARDIM DA PENHA</td>\n",
       "      <td>0</td>\n",
       "      <td>0</td>\n",
       "      <td>0</td>\n",
       "      <td>0</td>\n",
       "      <td>0</td>\n",
       "      <td>0</td>\n",
       "      <td>No</td>\n",
       "    </tr>\n",
       "    <tr>\n",
       "      <th>2</th>\n",
       "      <td>4.262962e+12</td>\n",
       "      <td>5642549</td>\n",
       "      <td>F</td>\n",
       "      <td>2016-04-29T16:19:04Z</td>\n",
       "      <td>2016-04-29T00:00:00Z</td>\n",
       "      <td>62</td>\n",
       "      <td>MATA DA PRAIA</td>\n",
       "      <td>0</td>\n",
       "      <td>0</td>\n",
       "      <td>0</td>\n",
       "      <td>0</td>\n",
       "      <td>0</td>\n",
       "      <td>0</td>\n",
       "      <td>No</td>\n",
       "    </tr>\n",
       "    <tr>\n",
       "      <th>3</th>\n",
       "      <td>8.679512e+11</td>\n",
       "      <td>5642828</td>\n",
       "      <td>F</td>\n",
       "      <td>2016-04-29T17:29:31Z</td>\n",
       "      <td>2016-04-29T00:00:00Z</td>\n",
       "      <td>8</td>\n",
       "      <td>PONTAL DE CAMBURI</td>\n",
       "      <td>0</td>\n",
       "      <td>0</td>\n",
       "      <td>0</td>\n",
       "      <td>0</td>\n",
       "      <td>0</td>\n",
       "      <td>0</td>\n",
       "      <td>No</td>\n",
       "    </tr>\n",
       "    <tr>\n",
       "      <th>4</th>\n",
       "      <td>8.841186e+12</td>\n",
       "      <td>5642494</td>\n",
       "      <td>F</td>\n",
       "      <td>2016-04-29T16:07:23Z</td>\n",
       "      <td>2016-04-29T00:00:00Z</td>\n",
       "      <td>56</td>\n",
       "      <td>JARDIM DA PENHA</td>\n",
       "      <td>0</td>\n",
       "      <td>1</td>\n",
       "      <td>1</td>\n",
       "      <td>0</td>\n",
       "      <td>0</td>\n",
       "      <td>0</td>\n",
       "      <td>No</td>\n",
       "    </tr>\n",
       "  </tbody>\n",
       "</table>\n",
       "</div>"
      ],
      "text/plain": [
       "      PatientId  AppointmentID Gender          ScheduledDay  \\\n",
       "0  2.987250e+13        5642903      F  2016-04-29T18:38:08Z   \n",
       "1  5.589978e+14        5642503      M  2016-04-29T16:08:27Z   \n",
       "2  4.262962e+12        5642549      F  2016-04-29T16:19:04Z   \n",
       "3  8.679512e+11        5642828      F  2016-04-29T17:29:31Z   \n",
       "4  8.841186e+12        5642494      F  2016-04-29T16:07:23Z   \n",
       "\n",
       "         AppointmentDay  Age      Neighbourhood  Scholarship  Hipertension  \\\n",
       "0  2016-04-29T00:00:00Z   62    JARDIM DA PENHA            0             1   \n",
       "1  2016-04-29T00:00:00Z   56    JARDIM DA PENHA            0             0   \n",
       "2  2016-04-29T00:00:00Z   62      MATA DA PRAIA            0             0   \n",
       "3  2016-04-29T00:00:00Z    8  PONTAL DE CAMBURI            0             0   \n",
       "4  2016-04-29T00:00:00Z   56    JARDIM DA PENHA            0             1   \n",
       "\n",
       "   Diabetes  Alcoholism  Handcap  SMS_received No-show  \n",
       "0         0           0        0             0      No  \n",
       "1         0           0        0             0      No  \n",
       "2         0           0        0             0      No  \n",
       "3         0           0        0             0      No  \n",
       "4         1           0        0             0      No  "
      ]
     },
     "execution_count": 2,
     "metadata": {},
     "output_type": "execute_result"
    }
   ],
   "source": [
    "# to Load dataset \n",
    "ds=pd.read_csv(\"Dataset.csv\")\n",
    "# to print the first few lines\n",
    "ds.head()\n"
   ]
  },
  {
   "cell_type": "markdown",
   "metadata": {},
   "source": [
    "**Now we know some information about our data. there are a patient id , appointment id , gender of the patient, scheduled day, appointment day, age, neighbourhood, scolarship, hiportension, diabetes, alcoholism, handcap, sms_received and no-show colums.\n",
    "From this we can notice that there are some typos error in the columns names**\n",
    "<ul>\n",
    "<li>patient id , appointment id are just unique ids for each patient\n",
    "<li>gender give us whether the patient (M) male or (F) female\n",
    "<li>scheduled day is the day in which the patient call the clinic and take an appointment\n",
    "<li>appointment day is the day in which the patient should go to the medical appointment\n",
    "<li>age is the age of that patient\n",
    "<li>neighbourhood is Where the appointment takes place\n",
    "<li>scolarship whether the patient take a support or not\n",
    "<li>hiportension, diabetes, alcoholism, handcap whether the patient has suffer from them or not\n",
    "<li>sms_received a message sent to the patient \n",
    "<li>no-show yes mean that the patient did not show the medical appointment no mean he/she attend the appointment\n",
    "</ul>"
   ]
  },
  {
   "cell_type": "code",
   "execution_count": 3,
   "metadata": {},
   "outputs": [
    {
     "data": {
      "text/plain": [
       "(110527, 14)"
      ]
     },
     "execution_count": 3,
     "metadata": {},
     "output_type": "execute_result"
    }
   ],
   "source": [
    "#the niumber of colums and rows in the dataset\n",
    "ds.shape"
   ]
  },
  {
   "cell_type": "code",
   "execution_count": 4,
   "metadata": {},
   "outputs": [
    {
     "data": {
      "text/plain": [
       "0"
      ]
     },
     "execution_count": 4,
     "metadata": {},
     "output_type": "execute_result"
    }
   ],
   "source": [
    "#To see if there are dublicated data or not\n",
    "sum(ds.duplicated())"
   ]
  },
  {
   "cell_type": "markdown",
   "metadata": {},
   "source": [
    "**From that we know that there are no any duplicated data**"
   ]
  },
  {
   "cell_type": "code",
   "execution_count": 5,
   "metadata": {},
   "outputs": [
    {
     "data": {
      "text/html": [
       "<div>\n",
       "<style scoped>\n",
       "    .dataframe tbody tr th:only-of-type {\n",
       "        vertical-align: middle;\n",
       "    }\n",
       "\n",
       "    .dataframe tbody tr th {\n",
       "        vertical-align: top;\n",
       "    }\n",
       "\n",
       "    .dataframe thead th {\n",
       "        text-align: right;\n",
       "    }\n",
       "</style>\n",
       "<table border=\"1\" class=\"dataframe\">\n",
       "  <thead>\n",
       "    <tr style=\"text-align: right;\">\n",
       "      <th></th>\n",
       "      <th>PatientId</th>\n",
       "      <th>AppointmentID</th>\n",
       "      <th>Age</th>\n",
       "      <th>Scholarship</th>\n",
       "      <th>Hipertension</th>\n",
       "      <th>Diabetes</th>\n",
       "      <th>Alcoholism</th>\n",
       "      <th>Handcap</th>\n",
       "      <th>SMS_received</th>\n",
       "    </tr>\n",
       "  </thead>\n",
       "  <tbody>\n",
       "    <tr>\n",
       "      <th>count</th>\n",
       "      <td>1.105270e+05</td>\n",
       "      <td>1.105270e+05</td>\n",
       "      <td>110527.000000</td>\n",
       "      <td>110527.000000</td>\n",
       "      <td>110527.000000</td>\n",
       "      <td>110527.000000</td>\n",
       "      <td>110527.000000</td>\n",
       "      <td>110527.000000</td>\n",
       "      <td>110527.000000</td>\n",
       "    </tr>\n",
       "    <tr>\n",
       "      <th>mean</th>\n",
       "      <td>1.474963e+14</td>\n",
       "      <td>5.675305e+06</td>\n",
       "      <td>37.088874</td>\n",
       "      <td>0.098266</td>\n",
       "      <td>0.197246</td>\n",
       "      <td>0.071865</td>\n",
       "      <td>0.030400</td>\n",
       "      <td>0.022248</td>\n",
       "      <td>0.321026</td>\n",
       "    </tr>\n",
       "    <tr>\n",
       "      <th>std</th>\n",
       "      <td>2.560949e+14</td>\n",
       "      <td>7.129575e+04</td>\n",
       "      <td>23.110205</td>\n",
       "      <td>0.297675</td>\n",
       "      <td>0.397921</td>\n",
       "      <td>0.258265</td>\n",
       "      <td>0.171686</td>\n",
       "      <td>0.161543</td>\n",
       "      <td>0.466873</td>\n",
       "    </tr>\n",
       "    <tr>\n",
       "      <th>min</th>\n",
       "      <td>3.921784e+04</td>\n",
       "      <td>5.030230e+06</td>\n",
       "      <td>-1.000000</td>\n",
       "      <td>0.000000</td>\n",
       "      <td>0.000000</td>\n",
       "      <td>0.000000</td>\n",
       "      <td>0.000000</td>\n",
       "      <td>0.000000</td>\n",
       "      <td>0.000000</td>\n",
       "    </tr>\n",
       "    <tr>\n",
       "      <th>25%</th>\n",
       "      <td>4.172614e+12</td>\n",
       "      <td>5.640286e+06</td>\n",
       "      <td>18.000000</td>\n",
       "      <td>0.000000</td>\n",
       "      <td>0.000000</td>\n",
       "      <td>0.000000</td>\n",
       "      <td>0.000000</td>\n",
       "      <td>0.000000</td>\n",
       "      <td>0.000000</td>\n",
       "    </tr>\n",
       "    <tr>\n",
       "      <th>50%</th>\n",
       "      <td>3.173184e+13</td>\n",
       "      <td>5.680573e+06</td>\n",
       "      <td>37.000000</td>\n",
       "      <td>0.000000</td>\n",
       "      <td>0.000000</td>\n",
       "      <td>0.000000</td>\n",
       "      <td>0.000000</td>\n",
       "      <td>0.000000</td>\n",
       "      <td>0.000000</td>\n",
       "    </tr>\n",
       "    <tr>\n",
       "      <th>75%</th>\n",
       "      <td>9.439172e+13</td>\n",
       "      <td>5.725524e+06</td>\n",
       "      <td>55.000000</td>\n",
       "      <td>0.000000</td>\n",
       "      <td>0.000000</td>\n",
       "      <td>0.000000</td>\n",
       "      <td>0.000000</td>\n",
       "      <td>0.000000</td>\n",
       "      <td>1.000000</td>\n",
       "    </tr>\n",
       "    <tr>\n",
       "      <th>max</th>\n",
       "      <td>9.999816e+14</td>\n",
       "      <td>5.790484e+06</td>\n",
       "      <td>115.000000</td>\n",
       "      <td>1.000000</td>\n",
       "      <td>1.000000</td>\n",
       "      <td>1.000000</td>\n",
       "      <td>1.000000</td>\n",
       "      <td>4.000000</td>\n",
       "      <td>1.000000</td>\n",
       "    </tr>\n",
       "  </tbody>\n",
       "</table>\n",
       "</div>"
      ],
      "text/plain": [
       "          PatientId  AppointmentID            Age    Scholarship  \\\n",
       "count  1.105270e+05   1.105270e+05  110527.000000  110527.000000   \n",
       "mean   1.474963e+14   5.675305e+06      37.088874       0.098266   \n",
       "std    2.560949e+14   7.129575e+04      23.110205       0.297675   \n",
       "min    3.921784e+04   5.030230e+06      -1.000000       0.000000   \n",
       "25%    4.172614e+12   5.640286e+06      18.000000       0.000000   \n",
       "50%    3.173184e+13   5.680573e+06      37.000000       0.000000   \n",
       "75%    9.439172e+13   5.725524e+06      55.000000       0.000000   \n",
       "max    9.999816e+14   5.790484e+06     115.000000       1.000000   \n",
       "\n",
       "        Hipertension       Diabetes     Alcoholism        Handcap  \\\n",
       "count  110527.000000  110527.000000  110527.000000  110527.000000   \n",
       "mean        0.197246       0.071865       0.030400       0.022248   \n",
       "std         0.397921       0.258265       0.171686       0.161543   \n",
       "min         0.000000       0.000000       0.000000       0.000000   \n",
       "25%         0.000000       0.000000       0.000000       0.000000   \n",
       "50%         0.000000       0.000000       0.000000       0.000000   \n",
       "75%         0.000000       0.000000       0.000000       0.000000   \n",
       "max         1.000000       1.000000       1.000000       4.000000   \n",
       "\n",
       "        SMS_received  \n",
       "count  110527.000000  \n",
       "mean        0.321026  \n",
       "std         0.466873  \n",
       "min         0.000000  \n",
       "25%         0.000000  \n",
       "50%         0.000000  \n",
       "75%         1.000000  \n",
       "max         1.000000  "
      ]
     },
     "execution_count": 5,
     "metadata": {},
     "output_type": "execute_result"
    }
   ],
   "source": [
    "# To obtain a summary descriptive statstics about the dataset\n",
    "ds.describe()"
   ]
  },
  {
   "cell_type": "markdown",
   "metadata": {},
   "source": [
    "**From the output we can see that the min age is -1 which is not a valid value.**"
   ]
  },
  {
   "cell_type": "code",
   "execution_count": 6,
   "metadata": {},
   "outputs": [
    {
     "name": "stdout",
     "output_type": "stream",
     "text": [
      "<class 'pandas.core.frame.DataFrame'>\n",
      "RangeIndex: 110527 entries, 0 to 110526\n",
      "Data columns (total 14 columns):\n",
      " #   Column          Non-Null Count   Dtype  \n",
      "---  ------          --------------   -----  \n",
      " 0   PatientId       110527 non-null  float64\n",
      " 1   AppointmentID   110527 non-null  int64  \n",
      " 2   Gender          110527 non-null  object \n",
      " 3   ScheduledDay    110527 non-null  object \n",
      " 4   AppointmentDay  110527 non-null  object \n",
      " 5   Age             110527 non-null  int64  \n",
      " 6   Neighbourhood   110527 non-null  object \n",
      " 7   Scholarship     110527 non-null  int64  \n",
      " 8   Hipertension    110527 non-null  int64  \n",
      " 9   Diabetes        110527 non-null  int64  \n",
      " 10  Alcoholism      110527 non-null  int64  \n",
      " 11  Handcap         110527 non-null  int64  \n",
      " 12  SMS_received    110527 non-null  int64  \n",
      " 13  No-show         110527 non-null  object \n",
      "dtypes: float64(1), int64(8), object(5)\n",
      "memory usage: 11.8+ MB\n"
     ]
    }
   ],
   "source": [
    "ds.info()"
   ]
  },
  {
   "cell_type": "markdown",
   "metadata": {},
   "source": [
    "**From the above information, there is not any null value. The SheduledDsay and AppointmentDay are DateTime not object.**"
   ]
  },
  {
   "cell_type": "markdown",
   "metadata": {},
   "source": [
    "### Data Cleaning"
   ]
  },
  {
   "cell_type": "markdown",
   "metadata": {},
   "source": [
    "**As we can figure after assessing the dataset. we find that:**\n",
    "<ul>\n",
    "<li> the age has a  non-valid value </li>\n",
    "<li>there are some typos error in the columns names</li>\n",
    "<li>The SheduledDsay and AppointmentDay are DateTime  not object.</li>\n",
    "</ul>\n",
    "I will clean those error"
   ]
  },
  {
   "cell_type": "code",
   "execution_count": 7,
   "metadata": {},
   "outputs": [
    {
     "name": "stdout",
     "output_type": "stream",
     "text": [
      "<class 'pandas.core.frame.DataFrame'>\n",
      "Int64Index: 106987 entries, 0 to 110526\n",
      "Data columns (total 14 columns):\n",
      " #   Column          Non-Null Count   Dtype              \n",
      "---  ------          --------------   -----              \n",
      " 0   PatientId       106987 non-null  float64            \n",
      " 1   AppointmentID   106987 non-null  int64              \n",
      " 2   Gender          106987 non-null  object             \n",
      " 3   ScheduledDay    106987 non-null  datetime64[ns, UTC]\n",
      " 4   AppointmentDay  106987 non-null  datetime64[ns, UTC]\n",
      " 5   Age             106987 non-null  int64              \n",
      " 6   Neighbourhood   106987 non-null  object             \n",
      " 7   Scholarship     106987 non-null  int64              \n",
      " 8   Hypertension    106987 non-null  int64              \n",
      " 9   Diabetes        106987 non-null  int64              \n",
      " 10  Alcoholism      106987 non-null  int64              \n",
      " 11  Handicap        106987 non-null  int64              \n",
      " 12  SMS_received    106987 non-null  int64              \n",
      " 13  No_Show         106987 non-null  object             \n",
      "dtypes: datetime64[ns, UTC](2), float64(1), int64(8), object(3)\n",
      "memory usage: 12.2+ MB\n"
     ]
    }
   ],
   "source": [
    "#Here clean the data errors\n",
    "#First we rename the columns that have a wrong names\n",
    "ds = ds.rename(columns={'Hipertension': 'Hypertension', 'Handcap': 'Handicap', 'No-show': 'No_Show' })\n",
    "# deleting the non valid values of the age that have a value less than 0\n",
    "ds=ds[ds.Age > 0]\n",
    "# Convert the type of the AppointmentDay \n",
    "ds['AppointmentDay']=pd.to_datetime(ds[\"AppointmentDay\"])\n",
    "ds['ScheduledDay']=pd.to_datetime(ds[\"ScheduledDay\"])\n",
    "ds.info()"
   ]
  },
  {
   "cell_type": "markdown",
   "metadata": {},
   "source": [
    "I think the patient and the appointment ID, scheduledDay and Neighbourhood will not give us information so I will  drop them"
   ]
  },
  {
   "cell_type": "code",
   "execution_count": 8,
   "metadata": {},
   "outputs": [
    {
     "data": {
      "text/html": [
       "<div>\n",
       "<style scoped>\n",
       "    .dataframe tbody tr th:only-of-type {\n",
       "        vertical-align: middle;\n",
       "    }\n",
       "\n",
       "    .dataframe tbody tr th {\n",
       "        vertical-align: top;\n",
       "    }\n",
       "\n",
       "    .dataframe thead th {\n",
       "        text-align: right;\n",
       "    }\n",
       "</style>\n",
       "<table border=\"1\" class=\"dataframe\">\n",
       "  <thead>\n",
       "    <tr style=\"text-align: right;\">\n",
       "      <th></th>\n",
       "      <th>Gender</th>\n",
       "      <th>AppointmentDay</th>\n",
       "      <th>Age</th>\n",
       "      <th>Scholarship</th>\n",
       "      <th>Hypertension</th>\n",
       "      <th>Diabetes</th>\n",
       "      <th>Alcoholism</th>\n",
       "      <th>Handicap</th>\n",
       "      <th>SMS_received</th>\n",
       "      <th>No_Show</th>\n",
       "    </tr>\n",
       "  </thead>\n",
       "  <tbody>\n",
       "    <tr>\n",
       "      <th>0</th>\n",
       "      <td>F</td>\n",
       "      <td>2016-04-29 00:00:00+00:00</td>\n",
       "      <td>62</td>\n",
       "      <td>0</td>\n",
       "      <td>1</td>\n",
       "      <td>0</td>\n",
       "      <td>0</td>\n",
       "      <td>0</td>\n",
       "      <td>0</td>\n",
       "      <td>No</td>\n",
       "    </tr>\n",
       "    <tr>\n",
       "      <th>1</th>\n",
       "      <td>M</td>\n",
       "      <td>2016-04-29 00:00:00+00:00</td>\n",
       "      <td>56</td>\n",
       "      <td>0</td>\n",
       "      <td>0</td>\n",
       "      <td>0</td>\n",
       "      <td>0</td>\n",
       "      <td>0</td>\n",
       "      <td>0</td>\n",
       "      <td>No</td>\n",
       "    </tr>\n",
       "    <tr>\n",
       "      <th>2</th>\n",
       "      <td>F</td>\n",
       "      <td>2016-04-29 00:00:00+00:00</td>\n",
       "      <td>62</td>\n",
       "      <td>0</td>\n",
       "      <td>0</td>\n",
       "      <td>0</td>\n",
       "      <td>0</td>\n",
       "      <td>0</td>\n",
       "      <td>0</td>\n",
       "      <td>No</td>\n",
       "    </tr>\n",
       "    <tr>\n",
       "      <th>3</th>\n",
       "      <td>F</td>\n",
       "      <td>2016-04-29 00:00:00+00:00</td>\n",
       "      <td>8</td>\n",
       "      <td>0</td>\n",
       "      <td>0</td>\n",
       "      <td>0</td>\n",
       "      <td>0</td>\n",
       "      <td>0</td>\n",
       "      <td>0</td>\n",
       "      <td>No</td>\n",
       "    </tr>\n",
       "    <tr>\n",
       "      <th>4</th>\n",
       "      <td>F</td>\n",
       "      <td>2016-04-29 00:00:00+00:00</td>\n",
       "      <td>56</td>\n",
       "      <td>0</td>\n",
       "      <td>1</td>\n",
       "      <td>1</td>\n",
       "      <td>0</td>\n",
       "      <td>0</td>\n",
       "      <td>0</td>\n",
       "      <td>No</td>\n",
       "    </tr>\n",
       "  </tbody>\n",
       "</table>\n",
       "</div>"
      ],
      "text/plain": [
       "  Gender            AppointmentDay  Age  Scholarship  Hypertension  Diabetes  \\\n",
       "0      F 2016-04-29 00:00:00+00:00   62            0             1         0   \n",
       "1      M 2016-04-29 00:00:00+00:00   56            0             0         0   \n",
       "2      F 2016-04-29 00:00:00+00:00   62            0             0         0   \n",
       "3      F 2016-04-29 00:00:00+00:00    8            0             0         0   \n",
       "4      F 2016-04-29 00:00:00+00:00   56            0             1         1   \n",
       "\n",
       "   Alcoholism  Handicap  SMS_received No_Show  \n",
       "0           0         0             0      No  \n",
       "1           0         0             0      No  \n",
       "2           0         0             0      No  \n",
       "3           0         0             0      No  \n",
       "4           0         0             0      No  "
      ]
     },
     "execution_count": 8,
     "metadata": {},
     "output_type": "execute_result"
    }
   ],
   "source": [
    "ds.drop([\"PatientId\",\"AppointmentID\",\"ScheduledDay\",'Neighbourhood'], axis=1, inplace=True)\n",
    "ds.head()"
   ]
  },
  {
   "cell_type": "code",
   "execution_count": 9,
   "metadata": {
    "scrolled": true
   },
   "outputs": [
    {
     "name": "stdout",
     "output_type": "stream",
     "text": [
      "<class 'pandas.core.frame.DataFrame'>\n",
      "Int64Index: 106987 entries, 0 to 110526\n",
      "Data columns (total 10 columns):\n",
      " #   Column          Non-Null Count   Dtype              \n",
      "---  ------          --------------   -----              \n",
      " 0   Gender          106987 non-null  object             \n",
      " 1   AppointmentDay  106987 non-null  datetime64[ns, UTC]\n",
      " 2   Age             106987 non-null  int64              \n",
      " 3   Scholarship     106987 non-null  int64              \n",
      " 4   Hypertension    106987 non-null  int64              \n",
      " 5   Diabetes        106987 non-null  int64              \n",
      " 6   Alcoholism      106987 non-null  int64              \n",
      " 7   Handicap        106987 non-null  int64              \n",
      " 8   SMS_received    106987 non-null  int64              \n",
      " 9   No_Show         106987 non-null  object             \n",
      "dtypes: datetime64[ns, UTC](1), int64(7), object(2)\n",
      "memory usage: 9.0+ MB\n"
     ]
    }
   ],
   "source": [
    "ds.info()"
   ]
  },
  {
   "cell_type": "code",
   "execution_count": 10,
   "metadata": {},
   "outputs": [
    {
     "data": {
      "text/html": [
       "<div>\n",
       "<style scoped>\n",
       "    .dataframe tbody tr th:only-of-type {\n",
       "        vertical-align: middle;\n",
       "    }\n",
       "\n",
       "    .dataframe tbody tr th {\n",
       "        vertical-align: top;\n",
       "    }\n",
       "\n",
       "    .dataframe thead th {\n",
       "        text-align: right;\n",
       "    }\n",
       "</style>\n",
       "<table border=\"1\" class=\"dataframe\">\n",
       "  <thead>\n",
       "    <tr style=\"text-align: right;\">\n",
       "      <th></th>\n",
       "      <th>Gender</th>\n",
       "      <th>AppointmentDay</th>\n",
       "      <th>Age</th>\n",
       "      <th>Scholarship</th>\n",
       "      <th>Hypertension</th>\n",
       "      <th>Diabetes</th>\n",
       "      <th>Alcoholism</th>\n",
       "      <th>Handicap</th>\n",
       "      <th>SMS_received</th>\n",
       "      <th>No_Show</th>\n",
       "    </tr>\n",
       "  </thead>\n",
       "  <tbody>\n",
       "    <tr>\n",
       "      <th>0</th>\n",
       "      <td>F</td>\n",
       "      <td>2016-04-29 00:00:00+00:00</td>\n",
       "      <td>62</td>\n",
       "      <td>0</td>\n",
       "      <td>1</td>\n",
       "      <td>0</td>\n",
       "      <td>0</td>\n",
       "      <td>0</td>\n",
       "      <td>0</td>\n",
       "      <td>No</td>\n",
       "    </tr>\n",
       "    <tr>\n",
       "      <th>1</th>\n",
       "      <td>M</td>\n",
       "      <td>2016-04-29 00:00:00+00:00</td>\n",
       "      <td>56</td>\n",
       "      <td>0</td>\n",
       "      <td>0</td>\n",
       "      <td>0</td>\n",
       "      <td>0</td>\n",
       "      <td>0</td>\n",
       "      <td>0</td>\n",
       "      <td>No</td>\n",
       "    </tr>\n",
       "    <tr>\n",
       "      <th>2</th>\n",
       "      <td>F</td>\n",
       "      <td>2016-04-29 00:00:00+00:00</td>\n",
       "      <td>62</td>\n",
       "      <td>0</td>\n",
       "      <td>0</td>\n",
       "      <td>0</td>\n",
       "      <td>0</td>\n",
       "      <td>0</td>\n",
       "      <td>0</td>\n",
       "      <td>No</td>\n",
       "    </tr>\n",
       "    <tr>\n",
       "      <th>3</th>\n",
       "      <td>F</td>\n",
       "      <td>2016-04-29 00:00:00+00:00</td>\n",
       "      <td>8</td>\n",
       "      <td>0</td>\n",
       "      <td>0</td>\n",
       "      <td>0</td>\n",
       "      <td>0</td>\n",
       "      <td>0</td>\n",
       "      <td>0</td>\n",
       "      <td>No</td>\n",
       "    </tr>\n",
       "    <tr>\n",
       "      <th>4</th>\n",
       "      <td>F</td>\n",
       "      <td>2016-04-29 00:00:00+00:00</td>\n",
       "      <td>56</td>\n",
       "      <td>0</td>\n",
       "      <td>1</td>\n",
       "      <td>1</td>\n",
       "      <td>0</td>\n",
       "      <td>0</td>\n",
       "      <td>0</td>\n",
       "      <td>No</td>\n",
       "    </tr>\n",
       "  </tbody>\n",
       "</table>\n",
       "</div>"
      ],
      "text/plain": [
       "  Gender            AppointmentDay  Age  Scholarship  Hypertension  Diabetes  \\\n",
       "0      F 2016-04-29 00:00:00+00:00   62            0             1         0   \n",
       "1      M 2016-04-29 00:00:00+00:00   56            0             0         0   \n",
       "2      F 2016-04-29 00:00:00+00:00   62            0             0         0   \n",
       "3      F 2016-04-29 00:00:00+00:00    8            0             0         0   \n",
       "4      F 2016-04-29 00:00:00+00:00   56            0             1         1   \n",
       "\n",
       "   Alcoholism  Handicap  SMS_received No_Show  \n",
       "0           0         0             0      No  \n",
       "1           0         0             0      No  \n",
       "2           0         0             0      No  \n",
       "3           0         0             0      No  \n",
       "4           0         0             0      No  "
      ]
     },
     "execution_count": 10,
     "metadata": {},
     "output_type": "execute_result"
    }
   ],
   "source": [
    "ds.head()"
   ]
  },
  {
   "cell_type": "markdown",
   "metadata": {},
   "source": [
    "**Now we have 10 variable. the only dependent variable is No_Show and the other are all independent variables**"
   ]
  },
  {
   "cell_type": "markdown",
   "metadata": {},
   "source": [
    "<a id='eda'></a>\n",
    "## Exploratory Data Analysis"
   ]
  },
  {
   "cell_type": "markdown",
   "metadata": {},
   "source": [
    "**Below we see that about 80 % of the patients have shown up for the medical appointment and 20 % have not shown up.**"
   ]
  },
  {
   "cell_type": "code",
   "execution_count": 11,
   "metadata": {
    "scrolled": true
   },
   "outputs": [
    {
     "data": {
      "text/plain": [
       "No     85307\n",
       "Yes    21680\n",
       "Name: No_Show, dtype: int64"
      ]
     },
     "execution_count": 11,
     "metadata": {},
     "output_type": "execute_result"
    }
   ],
   "source": [
    "ds[\"No_Show\"].value_counts()"
   ]
  },
  {
   "cell_type": "code",
   "execution_count": 12,
   "metadata": {},
   "outputs": [],
   "source": [
    "#This will give us the rows in which the patient show the mediacl appointment\n",
    "Show=ds.No_Show=='No'\n",
    "#This will give us the rows in which the patient no show the mediacl appointment\n",
    "No_Show=ds.No_Show=='Yes'"
   ]
  },
  {
   "cell_type": "code",
   "execution_count": 13,
   "metadata": {
    "scrolled": false
   },
   "outputs": [
    {
     "data": {
      "text/plain": [
       "<matplotlib.legend.Legend at 0x1df7a4fb040>"
      ]
     },
     "execution_count": 13,
     "metadata": {},
     "output_type": "execute_result"
    },
    {
     "data": {
      "image/png": "[encoded data removed]",
      "text/plain": [
       "<Figure size 432x288 with 1 Axes>"
      ]
     },
     "metadata": {
      "needs_background": "light"
     },
     "output_type": "display_data"
    }
   ],
   "source": [
    "#to see whether the Age affect showing up for the medical appointment or not \n",
    "ds.Age[Show].hist(alpha=1,label='show');\n",
    "ds.Age[No_Show].hist(alpha=1, label='no_show');\n",
    "plt.legend()"
   ]
  },
  {
   "cell_type": "markdown",
   "metadata": {},
   "source": [
    "**From above there is no any indication that can tell us the age affect the show up or not, therefore, I think Rhe age is not a factor by which we can indicate whether a patient will show up or not**"
   ]
  },
  {
   "cell_type": "code",
   "execution_count": 15,
   "metadata": {},
   "outputs": [
    {
     "name": "stdout",
     "output_type": "stream",
     "text": [
      "The percentage of the female who show up is 79.64 % and the percentage who did not show up is 20.36% \n",
      "the percentage of the male who show up is 79.92 % and the percentage who did not show up is 20.08 %\n"
     ]
    }
   ],
   "source": [
    "#count the num of males and females\n",
    "a=ds.Gender.value_counts()\n",
    "#count the num of males and females who show up for the medial appointment\n",
    "b=ds.Gender[Show].value_counts()\n",
    "#count the num of males and females who did not  show up for the medial appointment\n",
    "c=ds.Gender[No_Show].value_counts()\n",
    "# the percentage of the female who show up \n",
    "f=(b[0]/a[0])*100\n",
    "# the percentage of the female who did not show up \n",
    "f1=(c[0]/a[0])*100\n",
    "# the percentage of the male who show up\n",
    "m=(b[1]/a[1])*100\n",
    "# the percentage of the male who did not show up\n",
    "\n",
    "m1=(c[1]/a[1])*100\n",
    "print(\"The percentage of the female who show up is {:0.2f} % and the percentage who did not show up is {:0.2f}% \" .format(f,f1))\n",
    "print(\"the percentage of the male who show up is {:0.2f} % and the percentage who did not show up is {:0.2f} %\".format(m,m1))"
   ]
  },
  {
   "cell_type": "markdown",
   "metadata": {},
   "source": [
    "**Also from above, we can't consider the gender as a factor affecting whether the patient will show up or not Because both female and male have the same percentage od showing up**"
   ]
  },
  {
   "cell_type": "code",
   "execution_count": null,
   "metadata": {
    "scrolled": true
   },
   "outputs": [],
   "source": [
    "#to see whether the Scholarship affect showing up for the medical appointment or not \n",
    "ds.Scholarship[Show].hist(alpha=1,label='show');\n",
    "ds.Scholarship[No_Show].hist(alpha=1, label='no_show');\n",
    "plt.legend()"
   ]
  },
  {
   "cell_type": "markdown",
   "metadata": {},
   "source": [
    "**From the above histogram, we can say that the scholarship may affect but its effect is not huge. below I will try to calculate the exact percentage of the patient with scholarship and show up**"
   ]
  },
  {
   "cell_type": "code",
   "execution_count": null,
   "metadata": {
    "scrolled": true
   },
   "outputs": [],
   "source": [
    "#this is the num of the patient with and withput scholarship\n",
    "wo=ds.Scholarship.value_counts()\n",
    "#this is the num of the patient with and withput scholarship and show up \n",
    "s=(ds.Scholarship[Show]).value_counts()\n",
    "#this is the num of the patient with and withput scholarship and did not show up \n",
    "n=(ds.Scholarship[No_Show]).value_counts()\n",
    "sw=(s[1]/wo[1])*100\n",
    "so=(s[0]/wo[0])*100\n",
    "print(\"The percentage of patients with scolarship and show up is {:.2f} %\".format(sw))\n",
    "print(\"The percentage of patients WithOUt scolarship and show up is {:.2f} %\".format(so))"
   ]
  },
  {
   "cell_type": "markdown",
   "metadata": {},
   "source": [
    "**Therefore we can see that the patient without scholarship show up for the medical appointment more than those with scholarship**"
   ]
  },
  {
   "cell_type": "code",
   "execution_count": null,
   "metadata": {
    "scrolled": false
   },
   "outputs": [],
   "source": [
    "#to see whether the Hypertension affect showing up for the medical appointment or not \n",
    "ds.Hypertension[Show].hist(alpha=1,label='show');\n",
    "ds.Hypertension[No_Show].hist(alpha=1, label='no_show');\n",
    "plt.legend()\n",
    "\n",
    "#this is the num of the patient with and withput Hypertension\n",
    "wo=ds.Hypertension.value_counts()\n",
    "#this is the num of the patient with and withput Hypertension and show up \n",
    "s=(ds.Hypertension[Show]).value_counts()\n",
    "#this is the num of the patient with and withput Hypertension and did not show up \n",
    "n=(ds.Hypertension[No_Show]).value_counts()\n",
    "sw=(s[1]/wo[1])*100\n",
    "so=(s[0]/wo[0])*100\n",
    "print(\"The percentage of patients with Hypertension and show up is {:.2f} %\".format(sw))\n",
    "print(\"The percentage of patients WithOUt Hypertension and show up is {:.2f} %\".format(so))"
   ]
  },
  {
   "cell_type": "markdown",
   "metadata": {},
   "source": [
    "**Therefore we can see that the patient with Hypertension  show up for the medical appointment more than those WithOUt Hypertension**"
   ]
  },
  {
   "cell_type": "code",
   "execution_count": null,
   "metadata": {
    "scrolled": false
   },
   "outputs": [],
   "source": [
    "#to see whether the Diabetes affect showing up for the medical appointment or not \n",
    "ds.Diabetes[Show].hist(alpha=1,label='show');\n",
    "ds.Diabetes[No_Show].hist(alpha=1, label='no_show');\n",
    "plt.legend()\n",
    "\n",
    "#this is the num of the patient with and withput Diabetes\n",
    "wo=ds.Diabetes.value_counts()\n",
    "#this is the num of the patient with and withput Diabetes and show up \n",
    "s=(ds.Diabetes[Show]).value_counts()\n",
    "#this is the num of the patient with and withput Diabetes and did not show up \n",
    "n=(ds.Diabetes[No_Show]).value_counts()\n",
    "sw=(s[1]/wo[1])*100\n",
    "so=(s[0]/wo[0])*100\n",
    "print(\"The percentage of patients with Diabetes and show up is {:.2f} %\".format(sw))\n",
    "print(\"The percentage of patients WithOUt Diabetes and show up is {:.2f} %\".format(so))"
   ]
  },
  {
   "cell_type": "markdown",
   "metadata": {},
   "source": [
    "**Therefore we can see that the patient with Diabetes show up for the medical appointment more than those WithOUt Diabetes**"
   ]
  },
  {
   "cell_type": "code",
   "execution_count": null,
   "metadata": {
    "scrolled": false
   },
   "outputs": [],
   "source": [
    "#to see whether the Alcoholism affect showing up for the medical appointment or not \n",
    "ds.Alcoholism[Show].hist(alpha=1,label='show');\n",
    "ds.Alcoholism[No_Show].hist(alpha=1, label='no_show');\n",
    "plt.legend()\n",
    "\n",
    "#this is the num of the patient with and withput Alcoholism\n",
    "wo=ds.Alcoholism.value_counts()\n",
    "#this is the num of the patient with and withput Alcoholism and show up \n",
    "s=(ds.Alcoholism[Show]).value_counts()\n",
    "#this is the num of the patient with and withput Alcoholism and did not show up \n",
    "n=(ds.Alcoholism[No_Show]).value_counts()\n",
    "sw=(s[1]/wo[1])*100\n",
    "so=(s[0]/wo[0])*100\n",
    "print(\"The percentage of patients with Alcoholism and show up is {:.2f} %\".format(sw))\n",
    "print(\"The percentage of patients WithOUt Alcoholism and show up is {:.2f} %\".format(so))"
   ]
  },
  {
   "cell_type": "markdown",
   "metadata": {},
   "source": [
    "**From above it's obvious that the factor of Alcoholism is not affecting whether the patient will show up or not**"
   ]
  },
  {
   "cell_type": "code",
   "execution_count": null,
   "metadata": {
    "scrolled": false
   },
   "outputs": [],
   "source": [
    "#to see whether the Handicap affect showing up for the medical appointment or not \n",
    "ds.Handicap[Show].hist(alpha=1,label='show');\n",
    "ds.Handicap[No_Show].hist(alpha=1, label='no_show');\n",
    "plt.legend()\n",
    "\n",
    "#this is the num of the patient with and withput Handicap\n",
    "wo=ds.Handicap.value_counts()\n",
    "#this is the num of the patient with and withput Handicap and show up \n",
    "s=(ds.Handicap[Show]).value_counts()\n",
    "#this is the num of the patient with and withput Handicap and did not show up \n",
    "n=(ds.Handicap[No_Show]).value_counts()\n",
    "sw=(s[1]/wo[1])*100\n",
    "so=(s[0]/wo[0])*100\n",
    "print(\"The percentage of patients with Handicap and show up is {:.2f} %\".format(sw))\n",
    "print(\"The percentage of patients WithOUt Handicap and show up is {:.2f} %\".format(so))"
   ]
  },
  {
   "cell_type": "markdown",
   "metadata": {},
   "source": [
    "**Therefore we can see that the patient with Handicap show up for the medical appointment more than those WithOUt Handicap**"
   ]
  },
  {
   "cell_type": "code",
   "execution_count": null,
   "metadata": {},
   "outputs": [],
   "source": [
    "#to see whether the SMS_received affect showing up for the medical appointment or not \n",
    "ds.SMS_received[Show].hist(alpha=1,label='show');\n",
    "ds.SMS_received[No_Show].hist(alpha=1, label='no_show');\n",
    "plt.legend()\n",
    "\n",
    "#this is the num of the patient with and withput SMS_received\n",
    "wo=ds.SMS_received.value_counts()\n",
    "#this is the num of the patient with and withput SMS_received and show up \n",
    "s=(ds.SMS_received[Show]).value_counts()\n",
    "#this is the num of the patient with and withput SMS_received and did not show up \n",
    "n=(ds.SMS_received[No_Show]).value_counts()\n",
    "sw=(s[1]/wo[1])*100\n",
    "so=(s[0]/wo[0])*100\n",
    "print(\"The percentage of patients with SMS_received and show up is {:.2f} %\".format(sw))\n",
    "print(\"The percentage of patients WithOUt SMS_received and show up is {:.2f} %\".format(so))"
   ]
  },
  {
   "cell_type": "markdown",
   "metadata": {},
   "source": [
    "**Therefore we can see that the patient WithOUt SMS_received shows up for the medical appointment more than those with SMS_received. It seems so wired as it was expected the opposite**"
   ]
  },
  {
   "cell_type": "markdown",
   "metadata": {},
   "source": [
    "<a id='conclusions'></a>\n",
    "## Conclusions\n",
    "\n",
    "\n",
    "\n"
   ]
  },
  {
   "cell_type": "markdown",
   "metadata": {},
   "source": [
    "We can conclude that \n",
    "<ul> \n",
    "    <li> the factors that affect the show up are Scholarship, SMS_received, Handicap, Diabetes, Hypertension\n",
    "    <li>the factors that do not affect the show up are Gender, Age, Alcoholism\n",
    "</ul>\n",
    "we also can say that the patient without scholarship and suffer from Handicap, Diabetes and Hypertension may have a higher prediction of show up for the medical appointment"
   ]
  },
  {
   "cell_type": "markdown",
   "metadata": {},
   "source": [
    "I think it is better to perform Knn as it's more classification than being regression"
   ]
  },
  {
   "cell_type": "code",
   "execution_count": null,
   "metadata": {},
   "outputs": [],
   "source": [
    "copy=df.copy()\n",
    "copy['Gender'] = copy['Gender'].astype('category')\n",
    "copy['region'] = copy['region'].astype('category')\n",
    "copy['No_Show'] = copy['No_Show'].astype('No_Show')\n",
    "\n",
    "copy['Gender'] = copy['Gender'].cat.codes\n",
    "copy['region'] = copy['region'].cat.codes\n",
    "copy['No_Show'] = copy['No_Show'].cat.codes\n"
   ]
  },
  {
   "cell_type": "code",
   "execution_count": null,
   "metadata": {},
   "outputs": [],
   "source": [
    "ds.head()"
   ]
  },
  {
   "cell_type": "code",
   "execution_count": null,
   "metadata": {},
   "outputs": [],
   "source": [
    "from subprocess import call\n",
    "call(['python', '-m', 'nbconvert', 'Investigate_a_Dataset.ipynb'])"
   ]
  },
  {
   "cell_type": "code",
   "execution_count": null,
   "metadata": {},
   "outputs": [],
   "source": []
  }
 ],
 "metadata": {
  "kernelspec": {
   "display_name": "Python 3",
   "language": "python",
   "name": "python3"
  },
  "language_info": {
   "codemirror_mode": {
    "name": "ipython",
    "version": 3
   },
   "file_extension": ".py",
   "mimetype": "text/x-python",
   "name": "python",
   "nbconvert_exporter": "python",
   "pygments_lexer": "ipython3",
   "version": "3.8.3"
  }
 },
 "nbformat": 4,
 "nbformat_minor": 2
}
